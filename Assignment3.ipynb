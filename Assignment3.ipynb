{
  "nbformat": 4,
  "nbformat_minor": 0,
  "metadata": {
    "colab": {
      "name": "Assignment3.ipynb",
      "provenance": [],
      "collapsed_sections": [],
      "authorship_tag": "ABX9TyP2pcEYr28fYtv4JL86ybns",
      "include_colab_link": true
    },
    "kernelspec": {
      "name": "python3",
      "display_name": "Python 3"
    },
    "language_info": {
      "name": "python"
    }
  },
  "cells": [
    {
      "cell_type": "markdown",
      "metadata": {
        "id": "view-in-github",
        "colab_type": "text"
      },
      "source": [
        "<a href=\"https://colab.research.google.com/github/GundapuRamakrishna/AI/blob/main/Assignment3.ipynb\" target=\"_parent\"><img src=\"https://colab.research.google.com/assets/colab-badge.svg\" alt=\"Open In Colab\"/></a>"
      ]
    },
    {
      "cell_type": "code",
      "metadata": {
        "colab": {
          "base_uri": "https://localhost:8080/"
        },
        "id": "Dw0aFOoQMeMM",
        "outputId": "579ecb8c-36a6-4c62-e022-1bf062b6a107"
      },
      "source": [
        "import numpy as np\n",
        "import math\n",
        "x=np.random.uniform(-20,20)\n",
        "y=np.random.uniform(-20,20)\n",
        "eta = 0.01\n",
        "iter_max = 200\n",
        "iter = 0\n",
        "while iter <= iter_max:\n",
        "  grad_x = 6*x\n",
        "  grad_y = -5*(math.exp(-y))\n",
        "  del_x = -eta * grad_x\n",
        "  del_y = -eta * grad_y\n",
        "  x = x + del_x\n",
        "  y = y + del_y\n",
        "  iter = iter + 1\n",
        "obj =  3*(x**2) + 5*(math.exp(-y)) + 10\n",
        "print('Objective function value = ', round(obj))\n",
        "print('Global minimum point of x = ', round(x))\n",
        "print('Global minimum point of y = ', round(y))"
      ],
      "execution_count": 8,
      "outputs": [
        {
          "output_type": "stream",
          "name": "stdout",
          "text": [
            "Objective function value =  10\n",
            "Global minimum point of x =  0\n",
            "Global minimum point of y =  2\n"
          ]
        }
      ]
    }
  ]
}