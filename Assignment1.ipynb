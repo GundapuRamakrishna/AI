{
  "nbformat": 4,
  "nbformat_minor": 0,
  "metadata": {
    "colab": {
      "name": "Assignment1.ipynb",
      "provenance": [],
      "authorship_tag": "ABX9TyPLkZVsGQ4VCQkxogBWf9sw",
      "include_colab_link": true
    },
    "kernelspec": {
      "name": "python3",
      "display_name": "Python 3"
    },
    "language_info": {
      "name": "python"
    }
  },
  "cells": [
    {
      "cell_type": "markdown",
      "metadata": {
        "id": "view-in-github",
        "colab_type": "text"
      },
      "source": [
        "<a href=\"https://colab.research.google.com/github/GundapuRamakrishna/AI/blob/main/Assignment1.ipynb\" target=\"_parent\"><img src=\"https://colab.research.google.com/assets/colab-badge.svg\" alt=\"Open In Colab\"/></a>"
      ]
    },
    {
      "cell_type": "code",
      "metadata": {
        "colab": {
          "base_uri": "https://localhost:8080/"
        },
        "id": "uCodiH6pH6c2",
        "outputId": "79d4bc7d-4a19-4fde-e8a5-319d72e57a27"
      },
      "source": [
        "from scipy.optimize import linprog\n",
        "#objective function matrix\n",
        "obj=[-50,-120]\n",
        "#inequality constraints matrix\n",
        "a_ieq=[[7000,2000],[10,30],[1,1]]\n",
        "#inequality constraints matrix\n",
        "b_ieq=[700000,1200,110]\n",
        "boundary=[(0,float('inf')),(0,float('inf'))]\n",
        "opt=linprog(c=obj,A_ub=a_ieq,b_ub=b_ieq,A_eq=None,b_eq=None,bounds=boundary,method=\"simplex\")\n",
        "opt.x\n",
        "print(\"area of wheat to be planted:\",round(opt.x[0]))\n",
        "print(\"area of barley to be planted:\",round(opt.x[1]))\n",
        "optimalvalue=round((50*opt.x[0])+(120*opt.x[1]))\n",
        "print(\"optimal value=\",optimalvalue)\n",
        "\n"
      ],
      "execution_count": 14,
      "outputs": [
        {
          "output_type": "stream",
          "text": [
            "area of wheat to be planted: 98\n",
            "area of barley to be planted: 7\n",
            "optimal value= 5779\n"
          ],
          "name": "stdout"
        }
      ]
    }
  ]
}